{
  "nbformat": 4,
  "nbformat_minor": 0,
  "metadata": {
    "colab": {
      "name": "Fake News Detection(Optimized)",
      "provenance": [],
      "collapsed_sections": [],
      "toc_visible": true
    },
    "kernelspec": {
      "name": "python3",
      "display_name": "Python 3"
    },
    "accelerator": "GPU"
  },
  "cells": [
    {
      "cell_type": "code",
      "metadata": {
        "id": "xWaqDnhEGGb1",
        "colab_type": "code",
        "colab": {}
      },
      "source": [
        "import tensorflow as tf\n",
        "import pandas as pd\n",
        "import numpy as np\n",
        "import matplotlib.pyplot as plt\n",
        "from tensorflow.keras.preprocessing.text import Tokenizer\n",
        "from tensorflow.keras.preprocessing.sequence import pad_sequences\n",
        "import tensorflow_datasets as tfds"
      ],
      "execution_count": 0,
      "outputs": []
    },
    {
      "cell_type": "code",
      "metadata": {
        "id": "EpxzXJmKSB5H",
        "colab_type": "code",
        "colab": {}
      },
      "source": [
        "import statistics"
      ],
      "execution_count": 0,
      "outputs": []
    },
    {
      "cell_type": "code",
      "metadata": {
        "id": "ILvGi7gXHGEm",
        "colab_type": "code",
        "outputId": "182b6c48-7ec9-46d2-82a6-10ebd2018294",
        "colab": {
          "base_uri": "https://localhost:8080/",
          "height": 370
        }
      },
      "source": [
        "dataset=pd.read_csv(\"news_csv.csv\")"
      ],
      "execution_count": 0,
      "outputs": [
        {
          "output_type": "error",
          "ename": "FileNotFoundError",
          "evalue": "ignored",
          "traceback": [
            "\u001b[0;31m---------------------------------------------------------------------------\u001b[0m",
            "\u001b[0;31mFileNotFoundError\u001b[0m                         Traceback (most recent call last)",
            "\u001b[0;32m<ipython-input-3-0348548c79a0>\u001b[0m in \u001b[0;36m<module>\u001b[0;34m()\u001b[0m\n\u001b[0;32m----> 1\u001b[0;31m \u001b[0mdataset\u001b[0m\u001b[0;34m=\u001b[0m\u001b[0mpd\u001b[0m\u001b[0;34m.\u001b[0m\u001b[0mread_csv\u001b[0m\u001b[0;34m(\u001b[0m\u001b[0;34m\"news_csv.csv\"\u001b[0m\u001b[0;34m)\u001b[0m\u001b[0;34m\u001b[0m\u001b[0;34m\u001b[0m\u001b[0m\n\u001b[0m",
            "\u001b[0;32m/usr/local/lib/python3.6/dist-packages/pandas/io/parsers.py\u001b[0m in \u001b[0;36mparser_f\u001b[0;34m(filepath_or_buffer, sep, delimiter, header, names, index_col, usecols, squeeze, prefix, mangle_dupe_cols, dtype, engine, converters, true_values, false_values, skipinitialspace, skiprows, skipfooter, nrows, na_values, keep_default_na, na_filter, verbose, skip_blank_lines, parse_dates, infer_datetime_format, keep_date_col, date_parser, dayfirst, cache_dates, iterator, chunksize, compression, thousands, decimal, lineterminator, quotechar, quoting, doublequote, escapechar, comment, encoding, dialect, error_bad_lines, warn_bad_lines, delim_whitespace, low_memory, memory_map, float_precision)\u001b[0m\n\u001b[1;32m    674\u001b[0m         )\n\u001b[1;32m    675\u001b[0m \u001b[0;34m\u001b[0m\u001b[0m\n\u001b[0;32m--> 676\u001b[0;31m         \u001b[0;32mreturn\u001b[0m \u001b[0m_read\u001b[0m\u001b[0;34m(\u001b[0m\u001b[0mfilepath_or_buffer\u001b[0m\u001b[0;34m,\u001b[0m \u001b[0mkwds\u001b[0m\u001b[0;34m)\u001b[0m\u001b[0;34m\u001b[0m\u001b[0;34m\u001b[0m\u001b[0m\n\u001b[0m\u001b[1;32m    677\u001b[0m \u001b[0;34m\u001b[0m\u001b[0m\n\u001b[1;32m    678\u001b[0m     \u001b[0mparser_f\u001b[0m\u001b[0;34m.\u001b[0m\u001b[0m__name__\u001b[0m \u001b[0;34m=\u001b[0m \u001b[0mname\u001b[0m\u001b[0;34m\u001b[0m\u001b[0;34m\u001b[0m\u001b[0m\n",
            "\u001b[0;32m/usr/local/lib/python3.6/dist-packages/pandas/io/parsers.py\u001b[0m in \u001b[0;36m_read\u001b[0;34m(filepath_or_buffer, kwds)\u001b[0m\n\u001b[1;32m    446\u001b[0m \u001b[0;34m\u001b[0m\u001b[0m\n\u001b[1;32m    447\u001b[0m     \u001b[0;31m# Create the parser.\u001b[0m\u001b[0;34m\u001b[0m\u001b[0;34m\u001b[0m\u001b[0;34m\u001b[0m\u001b[0m\n\u001b[0;32m--> 448\u001b[0;31m     \u001b[0mparser\u001b[0m \u001b[0;34m=\u001b[0m \u001b[0mTextFileReader\u001b[0m\u001b[0;34m(\u001b[0m\u001b[0mfp_or_buf\u001b[0m\u001b[0;34m,\u001b[0m \u001b[0;34m**\u001b[0m\u001b[0mkwds\u001b[0m\u001b[0;34m)\u001b[0m\u001b[0;34m\u001b[0m\u001b[0;34m\u001b[0m\u001b[0m\n\u001b[0m\u001b[1;32m    449\u001b[0m \u001b[0;34m\u001b[0m\u001b[0m\n\u001b[1;32m    450\u001b[0m     \u001b[0;32mif\u001b[0m \u001b[0mchunksize\u001b[0m \u001b[0;32mor\u001b[0m \u001b[0miterator\u001b[0m\u001b[0;34m:\u001b[0m\u001b[0;34m\u001b[0m\u001b[0;34m\u001b[0m\u001b[0m\n",
            "\u001b[0;32m/usr/local/lib/python3.6/dist-packages/pandas/io/parsers.py\u001b[0m in \u001b[0;36m__init__\u001b[0;34m(self, f, engine, **kwds)\u001b[0m\n\u001b[1;32m    878\u001b[0m             \u001b[0mself\u001b[0m\u001b[0;34m.\u001b[0m\u001b[0moptions\u001b[0m\u001b[0;34m[\u001b[0m\u001b[0;34m\"has_index_names\"\u001b[0m\u001b[0;34m]\u001b[0m \u001b[0;34m=\u001b[0m \u001b[0mkwds\u001b[0m\u001b[0;34m[\u001b[0m\u001b[0;34m\"has_index_names\"\u001b[0m\u001b[0;34m]\u001b[0m\u001b[0;34m\u001b[0m\u001b[0;34m\u001b[0m\u001b[0m\n\u001b[1;32m    879\u001b[0m \u001b[0;34m\u001b[0m\u001b[0m\n\u001b[0;32m--> 880\u001b[0;31m         \u001b[0mself\u001b[0m\u001b[0;34m.\u001b[0m\u001b[0m_make_engine\u001b[0m\u001b[0;34m(\u001b[0m\u001b[0mself\u001b[0m\u001b[0;34m.\u001b[0m\u001b[0mengine\u001b[0m\u001b[0;34m)\u001b[0m\u001b[0;34m\u001b[0m\u001b[0;34m\u001b[0m\u001b[0m\n\u001b[0m\u001b[1;32m    881\u001b[0m \u001b[0;34m\u001b[0m\u001b[0m\n\u001b[1;32m    882\u001b[0m     \u001b[0;32mdef\u001b[0m \u001b[0mclose\u001b[0m\u001b[0;34m(\u001b[0m\u001b[0mself\u001b[0m\u001b[0;34m)\u001b[0m\u001b[0;34m:\u001b[0m\u001b[0;34m\u001b[0m\u001b[0;34m\u001b[0m\u001b[0m\n",
            "\u001b[0;32m/usr/local/lib/python3.6/dist-packages/pandas/io/parsers.py\u001b[0m in \u001b[0;36m_make_engine\u001b[0;34m(self, engine)\u001b[0m\n\u001b[1;32m   1112\u001b[0m     \u001b[0;32mdef\u001b[0m \u001b[0m_make_engine\u001b[0m\u001b[0;34m(\u001b[0m\u001b[0mself\u001b[0m\u001b[0;34m,\u001b[0m \u001b[0mengine\u001b[0m\u001b[0;34m=\u001b[0m\u001b[0;34m\"c\"\u001b[0m\u001b[0;34m)\u001b[0m\u001b[0;34m:\u001b[0m\u001b[0;34m\u001b[0m\u001b[0;34m\u001b[0m\u001b[0m\n\u001b[1;32m   1113\u001b[0m         \u001b[0;32mif\u001b[0m \u001b[0mengine\u001b[0m \u001b[0;34m==\u001b[0m \u001b[0;34m\"c\"\u001b[0m\u001b[0;34m:\u001b[0m\u001b[0;34m\u001b[0m\u001b[0;34m\u001b[0m\u001b[0m\n\u001b[0;32m-> 1114\u001b[0;31m             \u001b[0mself\u001b[0m\u001b[0;34m.\u001b[0m\u001b[0m_engine\u001b[0m \u001b[0;34m=\u001b[0m \u001b[0mCParserWrapper\u001b[0m\u001b[0;34m(\u001b[0m\u001b[0mself\u001b[0m\u001b[0;34m.\u001b[0m\u001b[0mf\u001b[0m\u001b[0;34m,\u001b[0m \u001b[0;34m**\u001b[0m\u001b[0mself\u001b[0m\u001b[0;34m.\u001b[0m\u001b[0moptions\u001b[0m\u001b[0;34m)\u001b[0m\u001b[0;34m\u001b[0m\u001b[0;34m\u001b[0m\u001b[0m\n\u001b[0m\u001b[1;32m   1115\u001b[0m         \u001b[0;32melse\u001b[0m\u001b[0;34m:\u001b[0m\u001b[0;34m\u001b[0m\u001b[0;34m\u001b[0m\u001b[0m\n\u001b[1;32m   1116\u001b[0m             \u001b[0;32mif\u001b[0m \u001b[0mengine\u001b[0m \u001b[0;34m==\u001b[0m \u001b[0;34m\"python\"\u001b[0m\u001b[0;34m:\u001b[0m\u001b[0;34m\u001b[0m\u001b[0;34m\u001b[0m\u001b[0m\n",
            "\u001b[0;32m/usr/local/lib/python3.6/dist-packages/pandas/io/parsers.py\u001b[0m in \u001b[0;36m__init__\u001b[0;34m(self, src, **kwds)\u001b[0m\n\u001b[1;32m   1889\u001b[0m         \u001b[0mkwds\u001b[0m\u001b[0;34m[\u001b[0m\u001b[0;34m\"usecols\"\u001b[0m\u001b[0;34m]\u001b[0m \u001b[0;34m=\u001b[0m \u001b[0mself\u001b[0m\u001b[0;34m.\u001b[0m\u001b[0musecols\u001b[0m\u001b[0;34m\u001b[0m\u001b[0;34m\u001b[0m\u001b[0m\n\u001b[1;32m   1890\u001b[0m \u001b[0;34m\u001b[0m\u001b[0m\n\u001b[0;32m-> 1891\u001b[0;31m         \u001b[0mself\u001b[0m\u001b[0;34m.\u001b[0m\u001b[0m_reader\u001b[0m \u001b[0;34m=\u001b[0m \u001b[0mparsers\u001b[0m\u001b[0;34m.\u001b[0m\u001b[0mTextReader\u001b[0m\u001b[0;34m(\u001b[0m\u001b[0msrc\u001b[0m\u001b[0;34m,\u001b[0m \u001b[0;34m**\u001b[0m\u001b[0mkwds\u001b[0m\u001b[0;34m)\u001b[0m\u001b[0;34m\u001b[0m\u001b[0;34m\u001b[0m\u001b[0m\n\u001b[0m\u001b[1;32m   1892\u001b[0m         \u001b[0mself\u001b[0m\u001b[0;34m.\u001b[0m\u001b[0munnamed_cols\u001b[0m \u001b[0;34m=\u001b[0m \u001b[0mself\u001b[0m\u001b[0;34m.\u001b[0m\u001b[0m_reader\u001b[0m\u001b[0;34m.\u001b[0m\u001b[0munnamed_cols\u001b[0m\u001b[0;34m\u001b[0m\u001b[0;34m\u001b[0m\u001b[0m\n\u001b[1;32m   1893\u001b[0m \u001b[0;34m\u001b[0m\u001b[0m\n",
            "\u001b[0;32mpandas/_libs/parsers.pyx\u001b[0m in \u001b[0;36mpandas._libs.parsers.TextReader.__cinit__\u001b[0;34m()\u001b[0m\n",
            "\u001b[0;32mpandas/_libs/parsers.pyx\u001b[0m in \u001b[0;36mpandas._libs.parsers.TextReader._setup_parser_source\u001b[0;34m()\u001b[0m\n",
            "\u001b[0;31mFileNotFoundError\u001b[0m: [Errno 2] File news_csv.csv does not exist: 'news_csv.csv'"
          ]
        }
      ]
    },
    {
      "cell_type": "code",
      "metadata": {
        "id": "DIYzBqkVIl9o",
        "colab_type": "code",
        "colab": {}
      },
      "source": [
        "dataset['label']=dataset['label'].map({\"FAKE\":0,\"REAL\":1})"
      ],
      "execution_count": 0,
      "outputs": []
    },
    {
      "cell_type": "code",
      "metadata": {
        "id": "2TFKVvH6JNci",
        "colab_type": "code",
        "outputId": "a5e19f5b-7c67-40b2-b75b-eceb3a4cc8f0",
        "colab": {
          "base_uri": "https://localhost:8080/",
          "height": 195
        }
      },
      "source": [
        "dataset.tail()"
      ],
      "execution_count": 0,
      "outputs": [
        {
          "output_type": "execute_result",
          "data": {
            "text/html": [
              "<div>\n",
              "<style scoped>\n",
              "    .dataframe tbody tr th:only-of-type {\n",
              "        vertical-align: middle;\n",
              "    }\n",
              "\n",
              "    .dataframe tbody tr th {\n",
              "        vertical-align: top;\n",
              "    }\n",
              "\n",
              "    .dataframe thead th {\n",
              "        text-align: right;\n",
              "    }\n",
              "</style>\n",
              "<table border=\"1\" class=\"dataframe\">\n",
              "  <thead>\n",
              "    <tr style=\"text-align: right;\">\n",
              "      <th></th>\n",
              "      <th>Unnamed: 0</th>\n",
              "      <th>title</th>\n",
              "      <th>text</th>\n",
              "      <th>label</th>\n",
              "    </tr>\n",
              "  </thead>\n",
              "  <tbody>\n",
              "    <tr>\n",
              "      <th>6330</th>\n",
              "      <td>4490</td>\n",
              "      <td>State Department says it can't find emails fro...</td>\n",
              "      <td>The State Department told the Republican Natio...</td>\n",
              "      <td>1</td>\n",
              "    </tr>\n",
              "    <tr>\n",
              "      <th>6331</th>\n",
              "      <td>8062</td>\n",
              "      <td>The ‘P’ in PBS Should Stand for ‘Plutocratic’ ...</td>\n",
              "      <td>The ‘P’ in PBS Should Stand for ‘Plutocratic’ ...</td>\n",
              "      <td>0</td>\n",
              "    </tr>\n",
              "    <tr>\n",
              "      <th>6332</th>\n",
              "      <td>8622</td>\n",
              "      <td>Anti-Trump Protesters Are Tools of the Oligarc...</td>\n",
              "      <td>Anti-Trump Protesters Are Tools of the Oligar...</td>\n",
              "      <td>0</td>\n",
              "    </tr>\n",
              "    <tr>\n",
              "      <th>6333</th>\n",
              "      <td>4021</td>\n",
              "      <td>In Ethiopia, Obama seeks progress on peace, se...</td>\n",
              "      <td>ADDIS ABABA, Ethiopia —President Obama convene...</td>\n",
              "      <td>1</td>\n",
              "    </tr>\n",
              "    <tr>\n",
              "      <th>6334</th>\n",
              "      <td>4330</td>\n",
              "      <td>Jeb Bush Is Suddenly Attacking Trump. Here's W...</td>\n",
              "      <td>Jeb Bush Is Suddenly Attacking Trump. Here's W...</td>\n",
              "      <td>1</td>\n",
              "    </tr>\n",
              "  </tbody>\n",
              "</table>\n",
              "</div>"
            ],
            "text/plain": [
              "      Unnamed: 0  ... label\n",
              "6330        4490  ...     1\n",
              "6331        8062  ...     0\n",
              "6332        8622  ...     0\n",
              "6333        4021  ...     1\n",
              "6334        4330  ...     1\n",
              "\n",
              "[5 rows x 4 columns]"
            ]
          },
          "metadata": {
            "tags": []
          },
          "execution_count": 35
        }
      ]
    },
    {
      "cell_type": "markdown",
      "metadata": {
        "id": "rLtZyqWOAK1h",
        "colab_type": "text"
      },
      "source": [
        "### **Change frac to vary the size of training set**"
      ]
    },
    {
      "cell_type": "code",
      "metadata": {
        "id": "Gyum_-QVJswT",
        "colab_type": "code",
        "colab": {}
      },
      "source": [
        "train=dataset.sample(frac=0.7)\n",
        "test=dataset.drop(train.index)\n"
      ],
      "execution_count": 0,
      "outputs": []
    },
    {
      "cell_type": "code",
      "metadata": {
        "id": "NTOmIBEoL8cB",
        "colab_type": "code",
        "colab": {}
      },
      "source": [
        "train_label=train.pop('label')"
      ],
      "execution_count": 0,
      "outputs": []
    },
    {
      "cell_type": "code",
      "metadata": {
        "id": "40GNAedvMVEc",
        "colab_type": "code",
        "colab": {}
      },
      "source": [
        "test_label=test.pop('label')"
      ],
      "execution_count": 0,
      "outputs": []
    },
    {
      "cell_type": "code",
      "metadata": {
        "id": "CkQ1YYVFQqYc",
        "colab_type": "code",
        "colab": {}
      },
      "source": [
        "max_length_text=int(statistics.mean([len(a) for a in train['text']]))"
      ],
      "execution_count": 0,
      "outputs": []
    },
    {
      "cell_type": "code",
      "metadata": {
        "id": "h3txLUeOaQYI",
        "colab_type": "code",
        "outputId": "bcbdbc2b-0060-451e-d0ac-3d3d368b65b9",
        "colab": {
          "base_uri": "https://localhost:8080/",
          "height": 34
        }
      },
      "source": [
        "max_length_text"
      ],
      "execution_count": 0,
      "outputs": [
        {
          "output_type": "execute_result",
          "data": {
            "text/plain": [
              "4718"
            ]
          },
          "metadata": {
            "tags": []
          },
          "execution_count": 9
        }
      ]
    },
    {
      "cell_type": "markdown",
      "metadata": {
        "colab_type": "text",
        "id": "u3TeRkIW_1Sy"
      },
      "source": [
        "### **Change Vocabulary Size here**\n"
      ]
    },
    {
      "cell_type": "code",
      "metadata": {
        "id": "I_OTkKj1dere",
        "colab_type": "code",
        "cellView": "both",
        "colab": {}
      },
      "source": [
        "vocab_size=10000"
      ],
      "execution_count": 0,
      "outputs": []
    },
    {
      "cell_type": "code",
      "metadata": {
        "id": "3x1o4PEfQrGL",
        "colab_type": "code",
        "colab": {}
      },
      "source": [
        "tk1=tfds.features.text.SubwordTextEncoder.build_from_corpus(train['text'],vocab_size,max_subword_length=5)"
      ],
      "execution_count": 0,
      "outputs": []
    },
    {
      "cell_type": "code",
      "metadata": {
        "id": "Ccxl-YQ7RCt4",
        "colab_type": "code",
        "colab": {}
      },
      "source": [
        "trainx=train['text'].tolist()\n",
        "for i,sen in enumerate(trainx):\n",
        "  trainx[i]=tk1.encode(sen)\n"
      ],
      "execution_count": 0,
      "outputs": []
    },
    {
      "cell_type": "code",
      "metadata": {
        "id": "crLRQMKGHViM",
        "colab_type": "code",
        "colab": {}
      },
      "source": [
        "testx=test['text'].tolist()\n",
        "for i,sen in enumerate(testx):\n",
        "  testx[i]=tk1.encode(sen)\n"
      ],
      "execution_count": 0,
      "outputs": []
    },
    {
      "cell_type": "code",
      "metadata": {
        "id": "tmAPRqQrTIwD",
        "colab_type": "code",
        "colab": {}
      },
      "source": [
        "seq_train_text=pad_sequences(trainx,maxlen=max_length_text,truncating=\"post\",padding=\"post\")"
      ],
      "execution_count": 0,
      "outputs": []
    },
    {
      "cell_type": "code",
      "metadata": {
        "id": "f0KZGHjhgHLH",
        "colab_type": "code",
        "colab": {}
      },
      "source": [
        "seq_test_text=pad_sequences(testx,maxlen=max_length_text,truncating=\"post\",padding=\"post\")"
      ],
      "execution_count": 0,
      "outputs": []
    },
    {
      "cell_type": "code",
      "metadata": {
        "id": "KiVQeisTUpOx",
        "colab_type": "code",
        "colab": {}
      },
      "source": [
        "train_label=np.array(train_label)\n",
        "test_label=np.array(test_label)"
      ],
      "execution_count": 0,
      "outputs": []
    },
    {
      "cell_type": "code",
      "metadata": {
        "id": "J7ZNqh05a5AT",
        "colab_type": "code",
        "colab": {}
      },
      "source": [
        "cb1=tf.keras.callbacks.ModelCheckpoint(\"abc.h5\",save_best_only=True)\n",
        "cb2=tf.keras.callbacks.EarlyStopping(patience=2)"
      ],
      "execution_count": 0,
      "outputs": []
    },
    {
      "cell_type": "code",
      "metadata": {
        "id": "hoxdFKFUbdgU",
        "colab_type": "code",
        "cellView": "both",
        "colab": {}
      },
      "source": [
        "#@title Using Convolution layers\n",
        "model=tf.keras.Sequential()        \n",
        "model.add(tf.keras.layers.Embedding(vocab_size,64,input_length=max_length_text))\n",
        "dil=[1,2,4,8,16,32]\n",
        "for dilation_rate in dil:\n",
        "  model.add(tf.keras.layers.Conv1D(64,5,dilation_rate=dilation_rate,padding=\"causal\",activation=tf.nn.relu))\n",
        "model.add(tf.keras.layers.Flatten())\n",
        "model.add(tf.keras.layers.Dense(32,activation=\"relu\"))\n",
        "model.add(tf.keras.layers.Dense(1,activation=tf.nn.sigmoid))\n",
        "model.compile(loss='binary_crossentropy',optimizer=tf.keras.optimizers.Adam(1e-4),metrics=['accuracy'])"
      ],
      "execution_count": 0,
      "outputs": []
    },
    {
      "cell_type": "code",
      "metadata": {
        "id": "uKBS-aVO81Db",
        "colab_type": "code",
        "colab": {}
      },
      "source": [
        "#@title Using LSTM Cells\n",
        "model2=tf.keras.layers.Sequential()\n",
        "model2.add(tf.keras.layers.Embedding(vocab_size,64,input_length=max_length_text))\n",
        "model2.add(tf.keras.layers.Bidirectional(tf.keras.layers.LSTM(64,return_sequences=True)))\n",
        "model2.add(tf.keras.layers.Bidirectional(tf.keras.layers.LSTM(64)))\n",
        "model2.add(tf.keras.layers.Dense(32,activation=\"relu\"))\n",
        "model2.add(tf.keras.layers.Dense(1,activation=tf.nn.sigmoid))\n",
        "model2.compile(loss='binary_crossentropy',optimizer=tf.keras.optimizers.Adam(1e-4),metrics=['accuracy'])"
      ],
      "execution_count": 0,
      "outputs": []
    },
    {
      "cell_type": "code",
      "metadata": {
        "id": "0FwcQuA_fWqM",
        "colab_type": "code",
        "outputId": "15ad810a-950d-45c4-a480-3e877ff3ad5f",
        "colab": {
          "base_uri": "https://localhost:8080/",
          "height": 353
        }
      },
      "source": [
        "history=model.fit(seq_train_text,train_label,epochs=10,validation_data=(seq_test_text,test_label))"
      ],
      "execution_count": 0,
      "outputs": [
        {
          "output_type": "stream",
          "text": [
            "Epoch 1/10\n",
            "139/139 [==============================] - 11s 78ms/step - loss: 0.6779 - accuracy: 0.5582 - val_loss: 0.6673 - val_accuracy: 0.6302\n",
            "Epoch 2/10\n",
            "139/139 [==============================] - 11s 76ms/step - loss: 0.5193 - accuracy: 0.7914 - val_loss: 0.4223 - val_accuracy: 0.9316\n",
            "Epoch 3/10\n",
            "139/139 [==============================] - 11s 76ms/step - loss: 0.3880 - accuracy: 0.9355 - val_loss: 0.3993 - val_accuracy: 0.9542\n",
            "Epoch 4/10\n",
            "139/139 [==============================] - 11s 76ms/step - loss: 0.3710 - accuracy: 0.9488 - val_loss: 0.3938 - val_accuracy: 0.9427\n",
            "Epoch 5/10\n",
            "139/139 [==============================] - 11s 77ms/step - loss: 0.3584 - accuracy: 0.9601 - val_loss: 0.3816 - val_accuracy: 0.9653\n",
            "Epoch 6/10\n",
            "139/139 [==============================] - 11s 77ms/step - loss: 0.3413 - accuracy: 0.9777 - val_loss: 0.3708 - val_accuracy: 0.9737\n",
            "Epoch 7/10\n",
            "139/139 [==============================] - 11s 76ms/step - loss: 0.3334 - accuracy: 0.9844 - val_loss: 0.3765 - val_accuracy: 0.9732\n",
            "Epoch 8/10\n",
            "139/139 [==============================] - 11s 76ms/step - loss: 0.3242 - accuracy: 0.9899 - val_loss: 0.3741 - val_accuracy: 0.9753\n",
            "Epoch 9/10\n",
            "139/139 [==============================] - 11s 76ms/step - loss: 0.3201 - accuracy: 0.9899 - val_loss: 0.4244 - val_accuracy: 0.9332\n",
            "Epoch 10/10\n",
            "139/139 [==============================] - 11s 76ms/step - loss: 0.3166 - accuracy: 0.9899 - val_loss: 0.3681 - val_accuracy: 0.9763\n"
          ],
          "name": "stdout"
        }
      ]
    },
    {
      "cell_type": "code",
      "metadata": {
        "id": "0amAWKLs-PZ5",
        "colab_type": "code",
        "colab": {}
      },
      "source": [
        "history2=model2.fit(seq_train_text,train_label,epochs=15,validation_data=(seq_test_text,test_label),callbacks=[cb1,cb2])"
      ],
      "execution_count": 0,
      "outputs": []
    },
    {
      "cell_type": "code",
      "metadata": {
        "id": "PpCUvsgn1A6G",
        "colab_type": "code",
        "outputId": "5fe11743-5124-47f0-abe1-d59b347d2b6e",
        "colab": {
          "base_uri": "https://localhost:8080/",
          "height": 50
        }
      },
      "source": [
        "loss,accu=model.evaluate(seq_test_text,test_label)\n",
        "print(\"Accuracy is {} and Loss is {}\".format(accu,loss))"
      ],
      "execution_count": 0,
      "outputs": [
        {
          "output_type": "stream",
          "text": [
            "60/60 [==============================] - 1s 25ms/step - loss: 0.3681 - accuracy: 0.9763\n",
            "Accuracy is 0.9763282537460327 and Loss is 0.3681168854236603\n"
          ],
          "name": "stdout"
        }
      ]
    },
    {
      "cell_type": "code",
      "metadata": {
        "id": "UO83Fb1T-nqJ",
        "colab_type": "code",
        "colab": {}
      },
      "source": [
        "loss2,accu2=model2.evaluate(seq_test_text,test_label)\n",
        "print(\"Accuracy is {} and Loss is {}\".format(accu2,loss2))"
      ],
      "execution_count": 0,
      "outputs": []
    },
    {
      "cell_type": "code",
      "metadata": {
        "id": "3lXN-8oJ1-HT",
        "colab_type": "code",
        "outputId": "748efc9f-d616-4e8f-e8bf-0bb16b3b7394",
        "colab": {
          "base_uri": "https://localhost:8080/",
          "height": 282
        }
      },
      "source": [
        "plt.plot(history.history['accuracy'],label=\"Accuracy\")\n",
        "plt.plot(history2.history['accuracy'],label=\"Accuracy2\")\n",
        "plt.legend()"
      ],
      "execution_count": 0,
      "outputs": [
        {
          "output_type": "execute_result",
          "data": {
            "text/plain": [
              "<matplotlib.legend.Legend at 0x7faa30c49160>"
            ]
          },
          "metadata": {
            "tags": []
          },
          "execution_count": 75
        },
        {
          "output_type": "display_data",
          "data": {
            "image/png": "[encoded data removed]",
            "text/plain": [
              "<Figure size 432x288 with 1 Axes>"
            ]
          },
          "metadata": {
            "tags": [],
            "needs_background": "light"
          }
        }
      ]
    },
    {
      "cell_type": "code",
      "metadata": {
        "id": "ZUdJAEVz_FUU",
        "colab_type": "code",
        "colab": {}
      },
      "source": [
        "plt.plot(history.history['loss'],label=\"Loss\")\n",
        "plt.plot(history2.history[\"loss\"],label=\"Loss2\")\n",
        "plt.legend()"
      ],
      "execution_count": 0,
      "outputs": []
    },
    {
      "cell_type": "code",
      "metadata": {
        "id": "dnw9v3dVKbZC",
        "colab_type": "code",
        "colab": {}
      },
      "source": [
        "prediction=model.predict(seq_test_text)"
      ],
      "execution_count": 0,
      "outputs": []
    },
    {
      "cell_type": "code",
      "metadata": {
        "id": "turwuxZHMNWz",
        "colab_type": "code",
        "colab": {}
      },
      "source": [
        "classes=[\"Fake\",\"Real\"]"
      ],
      "execution_count": 0,
      "outputs": []
    },
    {
      "cell_type": "markdown",
      "metadata": {
        "id": "weXRvVFqOAwz",
        "colab_type": "text"
      },
      "source": [
        "## **Change number of predictions here**"
      ]
    },
    {
      "cell_type": "code",
      "metadata": {
        "id": "Dalb3YhtKexQ",
        "colab_type": "code",
        "outputId": "24b0ffa5-3e95-44e5-c7c9-84d07fd85db4",
        "colab": {
          "base_uri": "https://localhost:8080/",
          "height": 1000
        }
      },
      "source": [
        "for i in range(100):\n",
        "  if(int(np.round(prediction[i][0]))==test_label[i]):\n",
        "    k=\"Correct\"\n",
        "  else:\n",
        "    k=\"Incorrect\"\n",
        "  print(\"Prediction = {} :: Actual = {} :: Prediction is {}\".format(classes[int(np.round(prediction[i][0]))],classes[test_label[i]],k))"
      ],
      "execution_count": 0,
      "outputs": [
        {
          "output_type": "stream",
          "text": [
            "Prediction = Fake :: Actual = Fake :: Prediction is Correct\n",
            "Prediction = Real :: Actual = Real :: Prediction is Correct\n",
            "Prediction = Real :: Actual = Real :: Prediction is Correct\n",
            "Prediction = Real :: Actual = Real :: Prediction is Correct\n",
            "Prediction = Fake :: Actual = Fake :: Prediction is Correct\n",
            "Prediction = Real :: Actual = Real :: Prediction is Correct\n",
            "Prediction = Real :: Actual = Real :: Prediction is Correct\n",
            "Prediction = Real :: Actual = Real :: Prediction is Correct\n",
            "Prediction = Fake :: Actual = Fake :: Prediction is Correct\n",
            "Prediction = Fake :: Actual = Fake :: Prediction is Correct\n",
            "Prediction = Real :: Actual = Real :: Prediction is Correct\n",
            "Prediction = Fake :: Actual = Fake :: Prediction is Correct\n",
            "Prediction = Fake :: Actual = Fake :: Prediction is Correct\n",
            "Prediction = Fake :: Actual = Fake :: Prediction is Correct\n",
            "Prediction = Fake :: Actual = Fake :: Prediction is Correct\n",
            "Prediction = Fake :: Actual = Fake :: Prediction is Correct\n",
            "Prediction = Real :: Actual = Real :: Prediction is Correct\n",
            "Prediction = Fake :: Actual = Fake :: Prediction is Correct\n",
            "Prediction = Real :: Actual = Real :: Prediction is Correct\n",
            "Prediction = Fake :: Actual = Fake :: Prediction is Correct\n",
            "Prediction = Fake :: Actual = Fake :: Prediction is Correct\n",
            "Prediction = Fake :: Actual = Fake :: Prediction is Correct\n",
            "Prediction = Fake :: Actual = Fake :: Prediction is Correct\n",
            "Prediction = Real :: Actual = Real :: Prediction is Correct\n",
            "Prediction = Fake :: Actual = Fake :: Prediction is Correct\n",
            "Prediction = Real :: Actual = Real :: Prediction is Correct\n",
            "Prediction = Real :: Actual = Real :: Prediction is Correct\n",
            "Prediction = Fake :: Actual = Fake :: Prediction is Correct\n",
            "Prediction = Real :: Actual = Real :: Prediction is Correct\n",
            "Prediction = Real :: Actual = Real :: Prediction is Correct\n",
            "Prediction = Fake :: Actual = Fake :: Prediction is Correct\n",
            "Prediction = Real :: Actual = Real :: Prediction is Correct\n",
            "Prediction = Fake :: Actual = Fake :: Prediction is Correct\n",
            "Prediction = Fake :: Actual = Fake :: Prediction is Correct\n",
            "Prediction = Real :: Actual = Real :: Prediction is Correct\n",
            "Prediction = Real :: Actual = Real :: Prediction is Correct\n",
            "Prediction = Fake :: Actual = Fake :: Prediction is Correct\n",
            "Prediction = Fake :: Actual = Fake :: Prediction is Correct\n",
            "Prediction = Real :: Actual = Real :: Prediction is Correct\n",
            "Prediction = Fake :: Actual = Fake :: Prediction is Correct\n",
            "Prediction = Fake :: Actual = Fake :: Prediction is Correct\n",
            "Prediction = Fake :: Actual = Fake :: Prediction is Correct\n",
            "Prediction = Real :: Actual = Real :: Prediction is Correct\n",
            "Prediction = Fake :: Actual = Fake :: Prediction is Correct\n",
            "Prediction = Fake :: Actual = Fake :: Prediction is Correct\n",
            "Prediction = Real :: Actual = Real :: Prediction is Correct\n",
            "Prediction = Fake :: Actual = Fake :: Prediction is Correct\n",
            "Prediction = Fake :: Actual = Fake :: Prediction is Correct\n",
            "Prediction = Fake :: Actual = Fake :: Prediction is Correct\n",
            "Prediction = Real :: Actual = Real :: Prediction is Correct\n",
            "Prediction = Fake :: Actual = Fake :: Prediction is Correct\n",
            "Prediction = Fake :: Actual = Fake :: Prediction is Correct\n",
            "Prediction = Fake :: Actual = Fake :: Prediction is Correct\n",
            "Prediction = Fake :: Actual = Fake :: Prediction is Correct\n",
            "Prediction = Real :: Actual = Real :: Prediction is Correct\n",
            "Prediction = Real :: Actual = Real :: Prediction is Correct\n",
            "Prediction = Real :: Actual = Real :: Prediction is Correct\n",
            "Prediction = Fake :: Actual = Fake :: Prediction is Correct\n",
            "Prediction = Real :: Actual = Real :: Prediction is Correct\n",
            "Prediction = Fake :: Actual = Fake :: Prediction is Correct\n",
            "Prediction = Real :: Actual = Real :: Prediction is Correct\n",
            "Prediction = Fake :: Actual = Fake :: Prediction is Correct\n",
            "Prediction = Fake :: Actual = Fake :: Prediction is Correct\n",
            "Prediction = Fake :: Actual = Fake :: Prediction is Correct\n",
            "Prediction = Real :: Actual = Real :: Prediction is Correct\n",
            "Prediction = Real :: Actual = Real :: Prediction is Correct\n",
            "Prediction = Fake :: Actual = Fake :: Prediction is Correct\n",
            "Prediction = Real :: Actual = Real :: Prediction is Correct\n",
            "Prediction = Fake :: Actual = Fake :: Prediction is Correct\n",
            "Prediction = Fake :: Actual = Fake :: Prediction is Correct\n",
            "Prediction = Fake :: Actual = Fake :: Prediction is Correct\n",
            "Prediction = Fake :: Actual = Fake :: Prediction is Correct\n",
            "Prediction = Fake :: Actual = Fake :: Prediction is Correct\n",
            "Prediction = Real :: Actual = Real :: Prediction is Correct\n",
            "Prediction = Fake :: Actual = Fake :: Prediction is Correct\n",
            "Prediction = Real :: Actual = Real :: Prediction is Correct\n",
            "Prediction = Real :: Actual = Real :: Prediction is Correct\n",
            "Prediction = Fake :: Actual = Fake :: Prediction is Correct\n",
            "Prediction = Real :: Actual = Real :: Prediction is Correct\n",
            "Prediction = Real :: Actual = Real :: Prediction is Correct\n",
            "Prediction = Real :: Actual = Real :: Prediction is Correct\n",
            "Prediction = Fake :: Actual = Fake :: Prediction is Correct\n",
            "Prediction = Fake :: Actual = Fake :: Prediction is Correct\n",
            "Prediction = Real :: Actual = Real :: Prediction is Correct\n",
            "Prediction = Real :: Actual = Real :: Prediction is Correct\n",
            "Prediction = Fake :: Actual = Fake :: Prediction is Correct\n",
            "Prediction = Fake :: Actual = Fake :: Prediction is Correct\n",
            "Prediction = Fake :: Actual = Fake :: Prediction is Correct\n",
            "Prediction = Fake :: Actual = Fake :: Prediction is Correct\n",
            "Prediction = Real :: Actual = Real :: Prediction is Correct\n",
            "Prediction = Real :: Actual = Real :: Prediction is Correct\n",
            "Prediction = Fake :: Actual = Fake :: Prediction is Correct\n",
            "Prediction = Real :: Actual = Real :: Prediction is Correct\n",
            "Prediction = Real :: Actual = Real :: Prediction is Correct\n",
            "Prediction = Real :: Actual = Real :: Prediction is Correct\n",
            "Prediction = Real :: Actual = Real :: Prediction is Correct\n",
            "Prediction = Real :: Actual = Real :: Prediction is Correct\n",
            "Prediction = Fake :: Actual = Fake :: Prediction is Correct\n",
            "Prediction = Real :: Actual = Real :: Prediction is Correct\n",
            "Prediction = Fake :: Actual = Fake :: Prediction is Correct\n"
          ],
          "name": "stdout"
        }
      ]
    }
  ]
}