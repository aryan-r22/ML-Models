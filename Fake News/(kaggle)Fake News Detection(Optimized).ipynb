{
  "nbformat": 4,
  "nbformat_minor": 0,
  "metadata": {
    "colab": {
      "name": "(kaggle) Fake News Detection(Optimized)",
      "provenance": [],
      "collapsed_sections": [],
      "toc_visible": true
    },
    "kernelspec": {
      "name": "python3",
      "display_name": "Python 3"
    },
    "accelerator": "GPU"
  },
  "cells": [
    {
      "cell_type": "code",
      "metadata": {
        "id": "xWaqDnhEGGb1",
        "colab_type": "code",
        "colab": {}
      },
      "source": [
        "import tensorflow as tf\n",
        "import pandas as pd\n",
        "import numpy as np\n",
        "import matplotlib.pyplot as plt\n",
        "from tensorflow.keras.preprocessing.text import Tokenizer\n",
        "from tensorflow.keras.preprocessing.sequence import pad_sequences\n",
        "import tensorflow_datasets as tfds"
      ],
      "execution_count": 0,
      "outputs": []
    },
    {
      "cell_type": "code",
      "metadata": {
        "id": "EpxzXJmKSB5H",
        "colab_type": "code",
        "colab": {}
      },
      "source": [
        "import statistics"
      ],
      "execution_count": 0,
      "outputs": []
    },
    {
      "cell_type": "code",
      "metadata": {
        "id": "ILvGi7gXHGEm",
        "colab_type": "code",
        "colab": {}
      },
      "source": [
        "dataset_trainx=pd.read_csv(\"train.csv\")\n",
        "dataset_test=pd.read_csv(\"test.csv\")"
      ],
      "execution_count": 0,
      "outputs": []
    },
    {
      "cell_type": "code",
      "metadata": {
        "id": "2TFKVvH6JNci",
        "colab_type": "code",
        "colab": {}
      },
      "source": [
        "train_dataset=dataset_trainx.sample(frac=0.6)\n",
        "val_dataset=dataset_trainx.drop(train_dataset.index)"
      ],
      "execution_count": 0,
      "outputs": []
    },
    {
      "cell_type": "code",
      "metadata": {
        "id": "7J91QtqpOqt6",
        "colab_type": "code",
        "colab": {}
      },
      "source": [
        "train_dataset=[str(a) for a in train_dataset['text']]"
      ],
      "execution_count": 0,
      "outputs": []
    },
    {
      "cell_type": "code",
      "metadata": {
        "id": "WQiv2ikQQgYg",
        "colab_type": "code",
        "colab": {}
      },
      "source": [
        "val_dataset=[str(a) for a in val_dataset['text']]"
      ],
      "execution_count": 0,
      "outputs": []
    },
    {
      "cell_type": "markdown",
      "metadata": {
        "id": "rLtZyqWOAK1h",
        "colab_type": "text"
      },
      "source": [
        "### **Change frac to vary the size of training set**"
      ]
    },
    {
      "cell_type": "code",
      "metadata": {
        "id": "NTOmIBEoL8cB",
        "colab_type": "code",
        "colab": {}
      },
      "source": [
        "train_label=train_dataset.pop('label')"
      ],
      "execution_count": 0,
      "outputs": []
    },
    {
      "cell_type": "code",
      "metadata": {
        "id": "40GNAedvMVEc",
        "colab_type": "code",
        "colab": {}
      },
      "source": [
        "val_label=val_dataset.pop('label')"
      ],
      "execution_count": 0,
      "outputs": []
    },
    {
      "cell_type": "code",
      "metadata": {
        "id": "CkQ1YYVFQqYc",
        "colab_type": "code",
        "colab": {}
      },
      "source": [
        "max_length_text=int(statistics.mean([len(a) for a in train_dataset]))"
      ],
      "execution_count": 0,
      "outputs": []
    },
    {
      "cell_type": "code",
      "metadata": {
        "id": "h3txLUeOaQYI",
        "colab_type": "code",
        "outputId": "b518762b-8980-4287-983d-60dba838dc3d",
        "colab": {
          "base_uri": "https://localhost:8080/",
          "height": 34
        }
      },
      "source": [
        "max_length_text"
      ],
      "execution_count": 0,
      "outputs": [
        {
          "output_type": "execute_result",
          "data": {
            "text/plain": [
              "4536"
            ]
          },
          "metadata": {
            "tags": []
          },
          "execution_count": 73
        }
      ]
    },
    {
      "cell_type": "markdown",
      "metadata": {
        "colab_type": "text",
        "id": "u3TeRkIW_1Sy"
      },
      "source": [
        "### **Change Vocabulary Size here**\n"
      ]
    },
    {
      "cell_type": "code",
      "metadata": {
        "id": "I_OTkKj1dere",
        "colab_type": "code",
        "cellView": "both",
        "colab": {}
      },
      "source": [
        "vocab_size=10000"
      ],
      "execution_count": 0,
      "outputs": []
    },
    {
      "cell_type": "code",
      "metadata": {
        "id": "3x1o4PEfQrGL",
        "colab_type": "code",
        "colab": {}
      },
      "source": [
        "tk1=tfds.features.text.SubwordTextEncoder.build_from_corpus(train_dataset,vocab_size,max_subword_length=5)"
      ],
      "execution_count": 0,
      "outputs": []
    },
    {
      "cell_type": "code",
      "metadata": {
        "id": "Ccxl-YQ7RCt4",
        "colab_type": "code",
        "colab": {}
      },
      "source": [
        "trainx=train_dataset\n",
        "for i,sen in enumerate(trainx):\n",
        "  trainx[i]=tk1.encode(sen)\n"
      ],
      "execution_count": 0,
      "outputs": []
    },
    {
      "cell_type": "code",
      "metadata": {
        "id": "crLRQMKGHViM",
        "colab_type": "code",
        "colab": {}
      },
      "source": [
        "valx=val_dataset\n",
        "for i,sen in enumerate(valx):\n",
        "  valx[i]=tk1.encode(sen)\n"
      ],
      "execution_count": 0,
      "outputs": []
    },
    {
      "cell_type": "code",
      "metadata": {
        "id": "tmAPRqQrTIwD",
        "colab_type": "code",
        "colab": {}
      },
      "source": [
        "seq_train_text=pad_sequences(trainx,maxlen=max_length_text,truncating=\"post\",padding=\"post\")"
      ],
      "execution_count": 0,
      "outputs": []
    },
    {
      "cell_type": "code",
      "metadata": {
        "id": "f0KZGHjhgHLH",
        "colab_type": "code",
        "colab": {}
      },
      "source": [
        "seq_val_text=pad_sequences(valx,maxlen=max_length_text,truncating=\"post\",padding=\"post\")"
      ],
      "execution_count": 0,
      "outputs": []
    },
    {
      "cell_type": "code",
      "metadata": {
        "id": "KiVQeisTUpOx",
        "colab_type": "code",
        "colab": {}
      },
      "source": [
        "train_label=np.array(train_label)\n",
        "val_label=np.array(val_label)"
      ],
      "execution_count": 0,
      "outputs": []
    },
    {
      "cell_type": "code",
      "metadata": {
        "id": "J7ZNqh05a5AT",
        "colab_type": "code",
        "colab": {}
      },
      "source": [
        "cb1=tf.keras.callbacks.ModelCheckpoint(\"abc.h5\",save_best_only=True)\n",
        "cb2=tf.keras.callbacks.EarlyStopping(patience=2)"
      ],
      "execution_count": 0,
      "outputs": []
    },
    {
      "cell_type": "code",
      "metadata": {
        "id": "hoxdFKFUbdgU",
        "colab_type": "code",
        "cellView": "both",
        "colab": {}
      },
      "source": [
        "#@title Using Convolution layers(Wavenet Architecture)\n",
        "model=tf.keras.Sequential()        \n",
        "model.add(tf.keras.layers.Embedding(vocab_size,64,input_length=max_length_text))\n",
        "dil=[1,2,4,8,16,32]\n",
        "for dilation_rate in dil:\n",
        "  model.add(tf.keras.layers.Conv1D(64,5,dilation_rate=dilation_rate,padding=\"causal\",activation=tf.nn.relu))\n",
        "model.add(tf.keras.layers.Flatten())\n",
        "model.add(tf.keras.layers.Dense(32,activation=\"relu\"))\n",
        "model.add(tf.keras.layers.Dense(1,activation=tf.nn.sigmoid))\n",
        "model.compile(loss='binary_crossentropy',optimizer=tf.keras.optimizers.Adam(1e-4),metrics=['accuracy'])"
      ],
      "execution_count": 0,
      "outputs": []
    },
    {
      "cell_type": "code",
      "metadata": {
        "id": "uKBS-aVO81Db",
        "colab_type": "code",
        "colab": {}
      },
      "source": [
        "#@title Using LSTM Cells\n",
        "model2=tf.keras.Sequential()\n",
        "model2.add(tf.keras.layers.Embedding(vocab_size,64,input_length=max_length_text))\n",
        "model2.add(tf.keras.layers.Bidirectional(tf.keras.layers.LSTM(64,return_sequences=True)))\n",
        "model2.add(tf.keras.layers.Bidirectional(tf.keras.layers.LSTM(64)))\n",
        "model2.add(tf.keras.layers.Dense(32,activation=\"relu\"))\n",
        "model2.add(tf.keras.layers.Dense(1,activation=tf.nn.sigmoid))\n",
        "model2.compile(loss='binary_crossentropy',optimizer=tf.keras.optimizers.Adam(1e-4),metrics=['accuracy'])"
      ],
      "execution_count": 0,
      "outputs": []
    },
    {
      "cell_type": "code",
      "metadata": {
        "id": "0FwcQuA_fWqM",
        "colab_type": "code",
        "colab": {}
      },
      "source": [
        "history=model.fit(seq_train_text,train_label,epochs=10,validation_data=(seq_val_text,val_label))"
      ],
      "execution_count": 0,
      "outputs": []
    },
    {
      "cell_type": "code",
      "metadata": {
        "id": "0amAWKLs-PZ5",
        "colab_type": "code",
        "colab": {}
      },
      "source": [
        "history2=model2.fit(seq_train_text,train_label,epochs=15,validation_data=(seq_val_text,val_label),callbacks=[cb1,cb2])"
      ],
      "execution_count": 0,
      "outputs": []
    },
    {
      "cell_type": "code",
      "metadata": {
        "id": "PpCUvsgn1A6G",
        "colab_type": "code",
        "outputId": "5fe11743-5124-47f0-abe1-d59b347d2b6e",
        "colab": {
          "base_uri": "https://localhost:8080/",
          "height": 50
        }
      },
      "source": [
        "loss,accu=model.evaluate(seq_val_text,val_label)\n",
        "print(\"Accuracy is {} and Loss is {}\".format(accu,loss))"
      ],
      "execution_count": 0,
      "outputs": [
        {
          "output_type": "stream",
          "text": [
            "60/60 [==============================] - 1s 25ms/step - loss: 0.3681 - accuracy: 0.9763\n",
            "Accuracy is 0.9763282537460327 and Loss is 0.3681168854236603\n"
          ],
          "name": "stdout"
        }
      ]
    },
    {
      "cell_type": "code",
      "metadata": {
        "id": "UO83Fb1T-nqJ",
        "colab_type": "code",
        "colab": {}
      },
      "source": [
        "loss2,accu2=model2.evaluate(seq_val_text,val_label)\n",
        "print(\"Accuracy is {} and Loss is {}\".format(accu2,loss2))"
      ],
      "execution_count": 0,
      "outputs": []
    },
    {
      "cell_type": "code",
      "metadata": {
        "id": "3lXN-8oJ1-HT",
        "colab_type": "code",
        "outputId": "748efc9f-d616-4e8f-e8bf-0bb16b3b7394",
        "colab": {
          "base_uri": "https://localhost:8080/",
          "height": 282
        }
      },
      "source": [
        "plt.plot(history.history['accuracy'],label=\"Accuracy\")\n",
        "plt.plot(history2.history['accuracy'],label=\"Accuracy2\")\n",
        "plt.legend()"
      ],
      "execution_count": 0,
      "outputs": [
        {
          "output_type": "execute_result",
          "data": {
            "text/plain": [
              "<matplotlib.legend.Legend at 0x7faa30c49160>"
            ]
          },
          "metadata": {
            "tags": []
          },
          "execution_count": 75
        },
        {
          "output_type": "display_data",
          "data": {
            "image/png": "[encoded data removed]",
            "text/plain": [
              "<Figure size 432x288 with 1 Axes>"
            ]
          },
          "metadata": {
            "tags": [],
            "needs_background": "light"
          }
        }
      ]
    },
    {
      "cell_type": "code",
      "metadata": {
        "id": "ZUdJAEVz_FUU",
        "colab_type": "code",
        "colab": {}
      },
      "source": [
        "plt.plot(history.history['loss'],label=\"Loss\")\n",
        "plt.plot(history2.history[\"loss\"],label=\"Loss2\")\n",
        "plt.legend()"
      ],
      "execution_count": 0,
      "outputs": []
    },
    {
      "cell_type": "markdown",
      "metadata": {
        "id": "weXRvVFqOAwz",
        "colab_type": "text"
      },
      "source": [
        "## **Change number of predictions here**"
      ]
    },
    {
      "cell_type": "code",
      "metadata": {
        "id": "RoNJfHzhTrOo",
        "colab_type": "code",
        "colab": {}
      },
      "source": [
        "dataset_test=[str(a) for a in dataset_test['text']]"
      ],
      "execution_count": 0,
      "outputs": []
    },
    {
      "cell_type": "code",
      "metadata": {
        "id": "F3PyYcH1TfOs",
        "colab_type": "code",
        "colab": {}
      },
      "source": [
        "testy=dataset_test\n",
        "for i,sen in enumerate(testy):\n",
        "  testy[i]=tk1.encode(sen)\n",
        "seq_testy_text=pad_sequences(testy,maxlen=max_length_text,truncating=\"post\",padding=\"post\")"
      ],
      "execution_count": 0,
      "outputs": []
    },
    {
      "cell_type": "code",
      "metadata": {
        "id": "dnw9v3dVKbZC",
        "colab_type": "code",
        "colab": {}
      },
      "source": [
        "prediction=model.predict(seq_testy_text)"
      ],
      "execution_count": 0,
      "outputs": []
    },
    {
      "cell_type": "code",
      "metadata": {
        "id": "turwuxZHMNWz",
        "colab_type": "code",
        "colab": {}
      },
      "source": [
        "classes=[\"Real\",\"Fake\"]"
      ],
      "execution_count": 0,
      "outputs": []
    },
    {
      "cell_type": "code",
      "metadata": {
        "id": "Dalb3YhtKexQ",
        "colab_type": "code",
        "colab": {}
      },
      "source": [
        "a=int(input())\n",
        "print(\"Prediction is {}\".format(classes[int(np.round(prediction[i][0]]))"
      ],
      "execution_count": 0,
      "outputs": []
    }
  ]
}